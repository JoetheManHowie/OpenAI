{
 "cells": [
  {
   "cell_type": "markdown",
   "id": "50cc7831",
   "metadata": {},
   "source": [
    "# Getting started with OpenAI Python API for Image Generation\n",
    "\n",
    "This notebook is a basic introduction that is meant to scratch the surface of the openai python api.\n",
    "\n",
    "_References:_\n",
    "1. https://beta.openai.com/docs/api-reference/introduction\n",
    "2. https://beta.openai.com/docs/guides/\n",
    "3. https://github.com/openai/openai-python\n",
    "4. https://github.com/OthersideAI/chronology\n",
    "5. https://beta.openai.com/account/api-keys\n",
    "6. https://beta.openai.com/docs/api-reference/images/create"
   ]
  },
  {
   "cell_type": "code",
   "execution_count": null,
   "id": "dcb00dbc",
   "metadata": {},
   "outputs": [],
   "source": [
    "## installation\n",
    "\n",
    "# !pip install --upgrade openai\n",
    "\n",
    "## Note: Chronology is an open source python api built with openai, \n",
    "## but the git repo has not been touched in 2 years..\n",
    "## for more info see ref [4]"
   ]
  },
  {
   "cell_type": "code",
   "execution_count": null,
   "id": "3b27faa4",
   "metadata": {},
   "outputs": [],
   "source": [
    "## imports\n",
    "import os\n",
    "from pathlib import Path\n",
    "import openai as oai\n",
    "\n",
    "## for reading urls and displaying images\n",
    "from PIL import Image\n",
    "import requests\n",
    "from io import BytesIO\n",
    "\n",
    "from time import time"
   ]
  },
  {
   "cell_type": "code",
   "execution_count": null,
   "id": "0aeb72ab",
   "metadata": {},
   "outputs": [],
   "source": [
    "## configurations: go to your openai account to generate a KEY!\n",
    "## Note: there is a better way to do this...but this way is easy.\n",
    "\n",
    "## put your YOUR_API_KEY here (use ref [5] link to get your api key)\n",
    "## Note: you need to create a openai account to use this api.\n",
    "## Go to beta.opanai.com, and make an account.\n",
    "## Then generate a private api key (DO NOT SHARE THIS)\n",
    "\n",
    "mykey = input() "
   ]
  },
  {
   "cell_type": "code",
   "execution_count": null,
   "id": "31a80eca",
   "metadata": {},
   "outputs": [],
   "source": [
    "oai.api_key = mykey\n",
    "print(oai.api_key)"
   ]
  },
  {
   "cell_type": "markdown",
   "id": "767a11a8",
   "metadata": {},
   "source": [
    "## Notes on the parameters:\n",
    "\n",
    "For image generation we have the class \"Image\" which we can use to generate images from text prompts with the method create(): The following is a descriptive list of the parameters of create()  (see ref [6]). \n",
    "\n",
    "__Note:__ You will likely just need the paprameters that are in the example below.\n",
    "\n",
    "1. __prompt:__ < str > A text description of the desired image(s). The maximum length is 1000 characters. *Required*.\n",
    "1. __n:__ < int > [Default = 1] The number of images to generate. Must be between 1 and 10. *Optional*.\n",
    "1. __size:__ < str > [Default = 1024x1024] The size of the generated images. Must be one of 256x256, 512x512, or 1024x1024. *Optional*.\n",
    "1. __response_format:__ < str > [Default = url] The format in which the generated images are returned. Must be one of url or b64_json. *Optional*.\n",
    "1. __user:__ < str > [Default = null] A unique identifier representing your end-user, which can help OpenAI to monitor and detect abuse. *Optional*."
   ]
  },
  {
   "cell_type": "code",
   "execution_count": null,
   "id": "96cd1c11",
   "metadata": {},
   "outputs": [],
   "source": [
    "### generate images ###\n",
    "image_prompt = \"Cats with hats\"\n",
    "\n",
    "possible_sizes = ['256x256', '512x512', '1024x1024']\n",
    "\n",
    "my_size = possible_sizes[1]\n",
    "\n",
    "image_resp = oai.Image.create(prompt=image_prompt,\n",
    "                              n=1, # def=1 (range 1 - 10, but watch out for RateLimitError)\n",
    "                              size=my_size)\n",
    "\n",
    "resp = requests.get(image_resp['data'][0]['url'])\n",
    "img = Image.open(BytesIO(resp.content))\n",
    "img.show(img)"
   ]
  },
  {
   "cell_type": "code",
   "execution_count": null,
   "id": "3a2d0daf",
   "metadata": {},
   "outputs": [],
   "source": [
    "## prepare to save image to the ImagesGenerated folder.\n",
    "images_generated = \"ImagesGenerated/\"\n",
    "\n",
    "## folder name is the prompt text with \"-\" in place of spaces\n",
    "## each period makes a new chain in the directory path\n",
    "save_folder = image_prompt.lower().replace(\" \", \"-\").replace(\".-\", \"/\").replace(\".\", \"/\") + \"/\"\n",
    "\n",
    "## specific image name is the current time in micro seconds (ms)\n",
    "file_name = str(round(time()*1e6)) + \".png\"\n",
    "\n",
    "## creates directory (folder) where instances of this prompt will be stored\n",
    "new_directory = Path(images_generated+save_folder)\n",
    "new_directory.mkdir(parents=True, exist_ok=True)\n",
    "\n",
    "## save path for the generated image\n",
    "save_path_name = images_generated + save_folder + file_name\n",
    "print(save_path_name)"
   ]
  },
  {
   "cell_type": "code",
   "execution_count": null,
   "id": "26dc5988",
   "metadata": {},
   "outputs": [],
   "source": [
    "## run this to save the image\n",
    "img.save(fp=save_path_name)"
   ]
  },
  {
   "cell_type": "code",
   "execution_count": null,
   "id": "a40ba8e1",
   "metadata": {},
   "outputs": [],
   "source": []
  }
 ],
 "metadata": {
  "kernelspec": {
   "display_name": "Python 3 (ipykernel)",
   "language": "python",
   "name": "python3"
  },
  "language_info": {
   "codemirror_mode": {
    "name": "ipython",
    "version": 3
   },
   "file_extension": ".py",
   "mimetype": "text/x-python",
   "name": "python",
   "nbconvert_exporter": "python",
   "pygments_lexer": "ipython3",
   "version": "3.10.4"
  }
 },
 "nbformat": 4,
 "nbformat_minor": 5
}
